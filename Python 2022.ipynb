{
 "cells": [
  {
   "cell_type": "markdown",
   "id": "aef8036a",
   "metadata": {},
   "source": [
    "# Variables"
   ]
  },
  {
   "cell_type": "code",
   "execution_count": 35,
   "id": "b7165456",
   "metadata": {},
   "outputs": [
    {
     "name": "stdout",
     "output_type": "stream",
     "text": [
      "name\n"
     ]
    }
   ],
   "source": [
    "name1 = \"Razu\"\n",
    "country = \"Bangladesh\"\n",
    "capital_city = \"Dhaka\"\n",
    "home_distric = \"Chittagong\"\n",
    "\n",
    "name2 = \"Daniel\"\n",
    "country = \"United states of America\"\n",
    "capital_city = \"Washington DC\"\n",
    "home_distric = \"New York\"\n"
   ]
  },
  {
   "cell_type": "code",
   "execution_count": 4,
   "id": "4064eabe",
   "metadata": {},
   "outputs": [
    {
     "name": "stdout",
     "output_type": "stream",
     "text": [
      "I am doing my assignment\n"
     ]
    }
   ],
   "source": [
    "print(\"I am doing my assignment\")"
   ]
  },
  {
   "cell_type": "code",
   "execution_count": 36,
   "id": "66cfe803",
   "metadata": {},
   "outputs": [
    {
     "name": "stdout",
     "output_type": "stream",
     "text": [
      "60\n"
     ]
    }
   ],
   "source": [
    "a = 10\n",
    "b = 20\n",
    "c = 30\n",
    "print(a + b + c)"
   ]
  },
  {
   "cell_type": "markdown",
   "id": "f1809b9e",
   "metadata": {},
   "source": [
    "# if, elif, else condition\n"
   ]
  },
  {
   "cell_type": "raw",
   "id": "404b6a8b",
   "metadata": {},
   "source": [
    "#1 Take values of length and breadth of a rectangle from user input()and check if it is square or not."
   ]
  },
  {
   "cell_type": "code",
   "execution_count": 18,
   "id": "5c3446d9",
   "metadata": {},
   "outputs": [
    {
     "name": "stdout",
     "output_type": "stream",
     "text": [
      "Enter a number14\n",
      "Enter a number20\n",
      "This rectangle is not square\n"
     ]
    }
   ],
   "source": [
    "length=float(input(\"Enter a number:\"))\n",
    "breadth=float(input(\"Enter a number:\"))\n",
    "\n",
    "if length == breadth:\n",
    "    print(\"This rectangle is square\")\n",
    "else:\n",
    "    print(\"This rectangle is not square\")"
   ]
  },
  {
   "cell_type": "raw",
   "id": "844e2d69",
   "metadata": {},
   "source": [
    "#2 Take three integer values from user and print greatest among them."
   ]
  },
  {
   "cell_type": "code",
   "execution_count": null,
   "id": "9001369a",
   "metadata": {},
   "outputs": [],
   "source": [
    "num = int(input(\"Enter a three numbers:\"))\n",
    "x = float(\"Enter a number:\")\n",
    "y = float(\"Enter a number:\")\n",
    "z = float(\"Enter a number:\")\n",
    "if x>y:\n",
    "    print(\"x is greatest then y\")\n",
    "    elif x>z:\n",
    "        print(\"x is geratest then z\")\n",
    "        elif x == z:\n",
    "            print(\"x,z are greater then y\")\n",
    "elif y>x:\n",
    "    print(\"y is greater then x\")\n",
    "    elif y>z:\n",
    "        print(\"y is greater then z\")\n",
    "        elif y==z:\n",
    "            print(\"y,z are greater then x\")\n",
    "elif z>x:\n",
    "    print(\"z is greater then x\")\n",
    "    elif z>y:\n",
    "        print(\"z is greater then y\")\n",
    "        elif x==y:\n",
    "            print(\"x,y are greater then z\")\n",
    "else:\n",
    "    print(\"x,y,z are equal\")\n",
    "\n",
    "        \n"
   ]
  },
  {
   "cell_type": "markdown",
   "id": "bb563bba",
   "metadata": {},
   "source": [
    "# Or"
   ]
  },
  {
   "cell_type": "code",
   "execution_count": null,
   "id": "153660a2",
   "metadata": {},
   "outputs": [],
   "source": [
    "A = float(input(\"Enter a value:\"))\n",
    "B = float(input(\"Enter a value:\"))\n",
    "C = float(input(\"Enter a value:\"))\n",
    "\n",
    "if A>B and A>C:\n",
    "    print(\"A is greatest\")\n",
    "elif B>A and B>C:\n",
    "    print (\"B is greatest\")\n",
    "elif C>A and C>B:\n",
    "    print(\"C is greatest\")\n",
    "else:\n",
    "    print(\"A,B,C are Equal\")\n"
   ]
  },
  {
   "cell_type": "raw",
   "id": "58d4ac33",
   "metadata": {},
   "source": [
    "#3 A student will not be allowed to sit in exam if his/her attendence is less than 75%."
   ]
  },
  {
   "cell_type": "code",
   "execution_count": 20,
   "id": "905a1203",
   "metadata": {},
   "outputs": [
    {
     "name": "stdout",
     "output_type": "stream",
     "text": [
      "Enter your attendence:75\n",
      "Have a nice day\n"
     ]
    }
   ],
   "source": [
    "A = int(input(\"Enter your attendence:\"))\n",
    "if A>75:\n",
    "    print(\"You are allow to sit for exam\")\n",
    "elif A<75:\n",
    "    print(\"You are not allow to sit for exma\")\n",
    "else:\n",
    "    print(\"Have a nice day\")"
   ]
  },
  {
   "cell_type": "raw",
   "id": "fe7a122b",
   "metadata": {},
   "source": [
    "#4 A school has following rules for grading system:\n",
    "Below 25-F, 25 to 44-E, 45 to 49-D, 50 to 59-C, 60 to 79-B, 80 to 89-A, Above 90-A+ \n",
    "Now, Ask user to enter marks and print the corresponding grade."
   ]
  },
  {
   "cell_type": "code",
   "execution_count": 29,
   "id": "cff349ec",
   "metadata": {},
   "outputs": [
    {
     "name": "stdout",
     "output_type": "stream",
     "text": [
      "Enter a number:70\n",
      "B\n"
     ]
    }
   ],
   "source": [
    "G = float(input(\"Enter a number:\"))\n",
    "if G<25:\n",
    "    print(\"F\")\n",
    "elif G>=25 and G<=44:\n",
    "    print(\"E\")\n",
    "elif G>=45 and G<=49:\n",
    "    print(\"D\")\n",
    "elif G>=50 and G<=59:\n",
    "    print(\"C\")\n",
    "elif G>=60 and G<=79:\n",
    "    print(\"B\")\n",
    "elif G>=80 and G<=89:\n",
    "    print(\"A\")\n",
    "elif G>=90 and G<=100:\n",
    "    print(\"A+\")\n"
   ]
  },
  {
   "cell_type": "code",
   "execution_count": null,
   "id": "3675bd5a",
   "metadata": {},
   "outputs": [],
   "source": []
  }
 ],
 "metadata": {
  "kernelspec": {
   "display_name": "Python 3 (ipykernel)",
   "language": "python",
   "name": "python3"
  },
  "language_info": {
   "codemirror_mode": {
    "name": "ipython",
    "version": 3
   },
   "file_extension": ".py",
   "mimetype": "text/x-python",
   "name": "python",
   "nbconvert_exporter": "python",
   "pygments_lexer": "ipython3",
   "version": "3.9.12"
  }
 },
 "nbformat": 4,
 "nbformat_minor": 5
}
